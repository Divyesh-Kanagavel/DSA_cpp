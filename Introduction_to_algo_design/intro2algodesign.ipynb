{
 "cells": [
  {
   "cell_type": "markdown",
   "metadata": {},
   "source": [
    "Algorithm : a procedure to accomplish a certain task is called an algorithm. It is usually the idea which makes computer programs work. \\\n",
    "An algorithm must solve a particular problem for it to be useful. It must be specified by the complete set of instances on which it works well and the output it gives when fed with the instances. \\\n",
    "For example if sorting is considered, the input usually is a set of keys : $a_1, a_2 ... a_n$ and the output is a set of the same keys ordered in ascending / descending as required."
   ]
  },
  {
   "cell_type": "markdown",
   "metadata": {},
   "source": [
    "There are many algorithms available for solving sorting problem and one of the famous ones is the insertion sort which **starts with the first element and then incrementally inserts element into the container such that the container is always sorted at any given time**"
   ]
  },
  {
   "cell_type": "markdown",
   "metadata": {},
   "source": [
    "Given the appropriate comparison operator, the algorithm is generic enough to work on integers, strings , floating point numbers etc. \\\n",
    "Three desirable properties of algorithms : correctness, efficienty and ease of implementation.\\\n",
    "All goals may not be achievable.So, we may have to sometimes accept solutions which are good enough for our application inspite of better algorithms existing. This is a common practice in industries."
   ]
  },
  {
   "cell_type": "markdown",
   "metadata": {},
   "source": [
    "Robot Tour optimization:\n",
    "it is a problem arising often in manufacturing , transportation and testing applications.\\\n",
    "Consider a robot arm equipped with a tool like soldering iron and the robot arm has to solder wire contact points on a printer circuit board. To program the arm, we must first order the n contact points so that the robot visits the points one by one soldering it.\n",
    "The idea is to minimize the total distance travelled by the arm during one cycle of soldering all points. \\\n",
    "the points could be ordered in any fashion not necessarily in a particular pattern. \\\n",
    "Problem : Robot tour optimization\n",
    "Input : A set of s input points\n",
    "Output : what is the shortest cycle tour that visits each point in the set S.\n"
   ]
  },
  {
   "cell_type": "markdown",
   "metadata": {},
   "source": [
    "There could be many algorithms which might come to mind. one of them could be nearest neighbour algorithm , provided you know the distances between points, start with a point, find the nearest neighbour and go to that point and repeat the process excluding the already visited points.Then get back to point 0. This way all points will be covered. \\\n",
    "The algorithm looks reasonably efficient, looks at a pair of points at most twice, is easily implementable. But it is not correct and hence it is not a desirable algorithm.  \\\n",
    "It may cover all the points but definitely is not the shortest in terms of distance taken.\\\n",
    "Consider the following ordering of points : \\\n",
    "the point 0 is in the center. point 1 is at a distance of 1 and there is another point at distance of -1 , i.e to the left of point 0 and then there is another point to the right of point 0 at a distance of 3 and so on. the robot arm would first move to point 1 at a distance of 1. Now it could either go to right side point at distance 3 or the point -1 to the left of 0. both are of same distance and if we have not broken for tie, the robot could hip-hop between left and right unnecessarily increasing the distance. Hence , this is not an optimal solution for all possible configuration of points."
   ]
  },
  {
   "cell_type": "markdown",
   "metadata": {},
   "source": [
    "A different idea could be to connect two endpoint pairs which are shortest but do not terminate prematurely the cycle before reaching the final point and coming back to point 0. \\\n",
    "Basically, we start with each vertex as vertex chains. then from each vertex, we pick end points and compute distances to those end points. IF distance is less than already set distance of d, then connect them with an edge and make that vertex part of the vertex chain. This way , keep growing vertex chains and finally there will be one vertex chain which reaches teh end point. This solves the problem encountered previously, but it more complex and is inefficient.\n",
    "But we can come up with scenarios where this algorithm fails to provide fastest solution as well. So, this is not an algorithm too!\n"
   ]
  },
  {
   "cell_type": "markdown",
   "metadata": {},
   "source": [
    "We could go for another approach : OptimalTSP \\\n",
    "For all n! permutations, figure out the shortest distances between points and find the path to take. \\\n",
    "Algorithm : \\\n",
    "d = $\\infty$ \\\n",
    "for each of the n! permutations $P_i$ of point set P, \\\n",
    " if cost($P_i$) $\\leq$ d, d = cost($P_i$) and $P_{min}$ = $P_i$ \\\n",
    "return $P_{min}$ \n"
   ]
  },
  {
   "cell_type": "markdown",
   "metadata": {},
   "source": [
    "The above algorithm solves the optimal path problem, but is dead slow. Even on the fastest of computers, can take a while to implement the algorithm. hence, it may pass the correctness and ease of implementation tests, but is not at all efficient. This problem is pretty famous and is called the travelling Salesman problem (TSP).\n",
    "\n",
    "\n"
   ]
  },
  {
   "cell_type": "markdown",
   "metadata": {},
   "source": [
    "there is a difference between algorithm which always ensures that it solves the problem at hand correctly and efficiently and heuristics,which usually does a good job but does not guarantee correct solution or is efficient."
   ]
  },
  {
   "cell_type": "markdown",
   "metadata": {},
   "source": [
    "Data structures can be classified into two types : 1. Linear data structure and 2. Non-linear data structure \n",
    "Linear : Elements can be accessed in a sequential order but it is not compulsory to store them in linear order . Example : arrays, linked lists, stacks, queues.\n",
    "Non-linear : Elements are accessed in a non-linear fashion . Example : Graphs, Trees."
   ]
  },
  {
   "cell_type": "markdown",
   "metadata": {},
   "source": []
  }
 ],
 "metadata": {
  "kernelspec": {
   "display_name": "base",
   "language": "python",
   "name": "python3"
  },
  "language_info": {
   "name": "python",
   "version": "3.11.5"
  }
 },
 "nbformat": 4,
 "nbformat_minor": 2
}
