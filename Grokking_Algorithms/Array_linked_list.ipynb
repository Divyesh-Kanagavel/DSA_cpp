{
 "cells": [
  {
   "cell_type": "markdown",
   "metadata": {},
   "source": [
    "Arrays : Store elements in computer's memory in a contiguous manner. like keeping your things in a sequentially arranged drawers. \n",
    "Linked lists : Sometimes you may not find sequential computer memory to store your stuff and may have to use memory at different locations. Linked lists help us to link all the locations up so that we can store our elements without losing track of where it is stored.\n"
   ]
  },
  {
   "cell_type": "markdown",
   "metadata": {},
   "source": [
    "In linked lists, accessing an element is a bit of pain.you have to move the base node and move to the required element one by one. in array, once you have base location, you can get to any location with a simple increment in pointer. \\\n",
    "But advantage of linked list , to store n elements, you simply need to have n free mem locations. you can link them up. for arrays, you need them to be together as contiguous blocks ,else the computer will not return mem locations."
   ]
  },
  {
   "cell_type": "markdown",
   "metadata": {},
   "source": [
    "Reading : O(1) for array and O(n) for linked list\n",
    "Insertion : O(n) for array and O(1) for array \n",
    "O(n) -> n operations for input size n , O(1) constant operations for size n\n",
    "Insertion : to insert an element at position n, you will have to disturb all the elements after n, because their indices are all going to change. \\\n",
    "For linked lists, you just need to change a few pointer , the prev node will point to inserted node and the inserted node will point to next node. just a few constant pointer manipulation operations."
   ]
  },
  {
   "cell_type": "markdown",
   "metadata": {},
   "source": [
    "Exercises:\n",
    "1.Suppose you’re building an app to keep track of your finances.\n",
    "Every day, you write down everything you spent money on. At the\n",
    "end of the month, you review your expenses and sum up how much\n",
    "you spent. So, you have lots of inserts and a few reads. Should you\n",
    "use an array or a list?\n",
    "Ans: Lots of inserts and a few reads : Advantage to use linked lists\n",
    "moreover, you are not going to random locations while reading often , you will go through every element and sum -> which is going to take n operations in array as well."
   ]
  },
  {
   "cell_type": "markdown",
   "metadata": {},
   "source": [
    "Inserting elements into middle of list : \\\n",
    "With lists, you simpy need to change a few pointers , for arrays you need to move all the elements down the order. Also, if there is not enough location, you need to move all the elements of the array to a new location with enough contiguous mem locations. Not the case with linked lists.\n"
   ]
  },
  {
   "cell_type": "markdown",
   "metadata": {},
   "source": [
    "Deletion of element: \\\n",
    "with linked list, again it is easier , we just need to point the previous node to the node next to current node, constant pointer manipulation operations. \\\n",
    "With arrays, you need to again move all the elements after the deleted element. \\\n",
    "One good thing is that, with deletion, it is always possible to do . there is no risk of running out of space and moving the enrire array to new locations. \\\n",
    "Deletion : Array -> O(n) and Linked list -> O(1) \\\n",
    "\n",
    "\n",
    "\n"
   ]
  },
  {
   "cell_type": "markdown",
   "metadata": {},
   "source": [
    "Use cases: \\\n",
    "Arrays have a lot of use cases in real projects because they offer faster read accesses. it is a constant time operation. but there are applications where linked lists are used due to their faster insertion and deletion operations."
   ]
  },
  {
   "cell_type": "markdown",
   "metadata": {},
   "source": [
    "Exercises:\n",
    "2.Suppose you’re building an app for restaurants to take customer\n",
    "orders. Your app needs to store a list of orders. Servers keep adding\n",
    "orders to this list, and chefs take orders off the list and make them.\n",
    "It’s an order queue: servers add orders to the back of the queue, and\n",
    "the chef takes the first order off the queue and cooks it.\n",
    "Would you use an array or a linked list to implement this queue?\n",
    "(Hint: Linked lists are good for inserts/deletes, and arrays are good\n",
    "for random access. Which one are you going to be doing here?)\n",
    "Ans : Linked lists . \\\n",
    "no random access required hence not beneficial to use arrays. Lot of insertions and deletions [linkedlists excel at that].\n"
   ]
  },
  {
   "cell_type": "markdown",
   "metadata": {},
   "source": [
    "3.Let’s run a thought experiment. Suppose Facebook keeps a list of\n",
    "usernames. When someone tries to log in to Facebook, a search is\n",
    "done for their username. If their name is in the list of usernames,\n",
    "they can log in. People log in to Facebook pretty often, so there are\n",
    "a lot of searches through this list of usernames. Suppose Facebook\n",
    "uses binary search to search the list. Binary search needs random\n",
    "access—you need to be able to get to the middle of the list of\n",
    "usernames instantly. Knowing this, would you implement the list\n",
    "as an array or a linked list? \\\n",
    "Ans : lot of searches and that too random searches . Arrays excel at random searches and hence we will go for arrays for this app."
   ]
  },
  {
   "cell_type": "markdown",
   "metadata": {},
   "source": [
    "4.People sign up for Facebook pretty often, too. Suppose you decided\n",
    "to use an array to store the list of users. What are the downsides\n",
    "of an array for inserts? In particular, suppose you’re using binary\n",
    "search to search for logins. What happens when you add new users\n",
    "to an array? \\\n",
    "Ans : When we add new users to arrays, we will have to find where to insert and then push every user after the inserted user by one location up. this is a costly operation with O(n) runtime. Since we are using binary search for search operations , we need to keep the array sorted. If a name is added, it is appended to the end of the array and then the entire array needs to be sorted to maintain the order.\n",
    "Sorting  O(nlogn) + insertion O(n)\n"
   ]
  },
  {
   "cell_type": "markdown",
   "metadata": {},
   "source": [
    "5. In reality, Facebook uses neither an array nor a linked list to store\n",
    "user information. Let’s consider a hybrid data structure: an array\n",
    "of linked lists. You have an array with 26 slots. Each slot points to a\n",
    "linked list. For example, the first slot in the array points to a linked\n",
    "list containing all the usernames starting with a. The second slot\n",
    "points to a linked list containing all the usernames starting with b,\n",
    "and so on.\n",
    "32 Chapter 2 I Selection sort\n",
    "Suppose Adit B signs up for Facebook, and you want to add them\n",
    "to the list. You go to slot 1 in the array, go to the linked list for slot\n",
    "1, and add Adit B at the end. Now, suppose you want to search for\n",
    "Zakhir H. You go to slot 26, which points to a linked list of all the\n",
    "Z names. Then you search through that list to find Zakhir H.\n",
    "Compare this hybrid data structure to arrays and linked lists. Is it\n",
    "slower or faster than each for searching and inserting? You don’t\n",
    "have to give Big O run times, just whether the new data structure\n",
    "would be faster or slower. \\\n",
    "Ans:This hybrid approach combines the best of both arrays and linked lists. First of all, search is made faster compared to linked list due to the names starting with a letter are all stored in an array . But within the array, we use a linked list to store names, so faster insertion and deletion though search within the names starting with a letter is slowed down. \\\n",
    "Searching : Slower than arrays and faster than linked lists \\\n",
    "Insertion : Faster than array and same time as linked list \\\n",
    "There is another data structure called hash table which is more suited. \\\n",
    "Facebook probably uses hash tables, b-trees and other complex data structures to handle such huge databases."
   ]
  },
  {
   "cell_type": "markdown",
   "metadata": {},
   "source": [
    "let us say we have to sort a list of items. \\\n",
    "One way of doing it is to traverse through the list, pick the element with highest value and put it in location 1 in another container. keep doing this till you fill the second container with all values in sorted order [descending in this location]. \\\n",
    "Each time we are traversing n locations , so O(n) for this operation and we are doing this n times to fill the second container O(n) for that -> so time complexity is O(n*n) = O(n^2). \\\n",
    "Agreed, we are not traversing through n elements each time , in fact we are traversing through n , n-1, n-2 ... 1 and hence the runtime is O(n*n/2) = O(n^2/2), for large values of n, we can ignore the 1/2 and say the worst case run time is O(n^2)"
   ]
  },
  {
   "cell_type": "code",
   "execution_count": 1,
   "metadata": {},
   "outputs": [],
   "source": [
    "#selection sort code:\n",
    "def find_smallest(arr):\n",
    "    smallest = arr[0]\n",
    "    smallest_index = 0\n",
    "    for i in range(1,len(arr)):\n",
    "        if arr[i] < smallest:\n",
    "            smallest = arr[i]\n",
    "            smallest_index = i\n",
    "    return smallest_index\n",
    "\n",
    "def selection_sort(arr):\n",
    "    newArr = [] #new container\n",
    "    for i in range(len(arr)):\n",
    "        smallest = find_smallest(arr)\n",
    "        newArr.append(arr.pop(smallest))\n",
    "    return newArr\n"
   ]
  },
  {
   "cell_type": "code",
   "execution_count": 2,
   "metadata": {},
   "outputs": [
    {
     "name": "stdout",
     "output_type": "stream",
     "text": [
      "[2, 3, 5, 6, 10]\n"
     ]
    }
   ],
   "source": [
    "print (selection_sort([5, 3, 6, 2, 10]))"
   ]
  }
 ],
 "metadata": {
  "kernelspec": {
   "display_name": "base",
   "language": "python",
   "name": "python3"
  },
  "language_info": {
   "codemirror_mode": {
    "name": "ipython",
    "version": 3
   },
   "file_extension": ".py",
   "mimetype": "text/x-python",
   "name": "python",
   "nbconvert_exporter": "python",
   "pygments_lexer": "ipython3",
   "version": "3.11.5"
  }
 },
 "nbformat": 4,
 "nbformat_minor": 2
}
