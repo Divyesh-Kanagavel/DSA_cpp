{
 "cells": [
  {
   "cell_type": "markdown",
   "metadata": {},
   "source": [
    "Divide and Conquer : a technique which is used to solve a variety of problems. A very good tool to have to tackle problems not seen before. \\\n",
    "It is a technique based on recursion studied in the previous notebook. D&C is not a tool to solve just a single type of problems. Instead , it is a way of thinking which can be used to solve a variety of problems. \\\n",
    "Quicksort is an elegant sorting algorithm which uses D&C to sort a bunch of elements. It is very elegant and is much faster compared to selection sort "
   ]
  },
  {
   "cell_type": "markdown",
   "metadata": {},
   "source": [
    "To solve a D&C problem, there are two important steps : \\\n",
    "1. Figure out the base case. This should be the simplest possible case. \\\n",
    "2. Keep dividing the problem till you reach the base case."
   ]
  },
  {
   "cell_type": "markdown",
   "metadata": {},
   "source": [
    "Consider a farm of size 1680X640 m . the objective is to split the farm into square plots and the plots should be as big as possible. Let us try our D & C approach. First pick up multiples of 640. 1280X640 . Remaining width = 1680-1280 = 400. Consider this remaining piece of land : 400X640. Our split is constrained by this piece of land , because the other portion has width exactly a multiple of length. Euclid algorithm says, if we split this smaller farm land into equally sized square plots, that can be used to split the entire farm. \\\n",
    "400X640 can be split again into 400X400 , with 400X240 remaining. Now, try splitting this remaining piece of land. this can be further split as 240X240 + 160X240. Again split the residual portion as 160X160 + 160X80. residual portion is 160X80. split this as 80X80 + 80X80. \\\n",
    "Voila! we have reached a point where the farmland is equally split. The entire plot can be split into 80X80 plots. "
   ]
  },
  {
   "cell_type": "markdown",
   "metadata": {},
   "source": [
    "Example 2 : \\\n",
    "Sum of n numbers in a list: \\\n",
    "the objective is to find the sum of n numbers in a list. let us see the code using a loop"
   ]
  },
  {
   "cell_type": "code",
   "execution_count": 18,
   "metadata": {},
   "outputs": [
    {
     "name": "stderr",
     "output_type": "stream",
     "text": [
      "UsageError: Line magic function `%%time` not found.\n"
     ]
    }
   ],
   "source": [
    "def sum(arr):\n",
    "    s = 0\n",
    "    for i in arr:\n",
    "        s+=i\n",
    "    return s\n",
    "\n",
    "arr = [4,3,2,9,0,7]\n",
    "\n",
    "print(sum(arr))"
   ]
  },
  {
   "cell_type": "markdown",
   "metadata": {},
   "source": [
    "Can this be done with recursion and divide and conquer ? \\\n",
    "The base case would be sum of just 1 element which is the number itself or sum of no numbers which would be zero. The objective is to divide our arrays into sub-arrays and reach the base case. \\\n",
    "for example : \n",
    "sum([2,3,6]) = 2 + sum(3,6) = 2 + 3 + sum(6) = 2+3+6+6+sum([]) = 2+3+6. \\\n",
    "The algo could be like this: \\\n",
    "read a list , if the list is empty, return 0 else return first number + sum of remaining list.  \\\n",
    "When you’re writing a recursive function involving an array, the base case is\n",
    "often an empty array or an array with one element. If you’re stuck, try that first."
   ]
  },
  {
   "cell_type": "markdown",
   "metadata": {},
   "source": [
    "Why to do this recursively when it can be done with loops. This question leads to functional programming and its languages. Functional programming languages like Haskell have no provisions for loops. Hence, even simple algorithms like summing have to be done using recursion. \\\n",
    "sum [] = 0  -> Base case\n",
    "sum (x:xs) = x + (sum xs) -> recursive case \\\n",
    "Haskell has neat features to ease our usage of recursion and divide and conquer, since it being functional programming language relies heavily on these ideas."
   ]
  },
  {
   "cell_type": "markdown",
   "metadata": {},
   "source": [
    "Exercises:\n",
    "1. Write out the code for the earlier sum function."
   ]
  },
  {
   "cell_type": "code",
   "execution_count": 13,
   "metadata": {},
   "outputs": [],
   "source": [
    "def sum_dc(arr):\n",
    "\n",
    "    if len(arr) == 0:\n",
    "        return 0\n",
    "    return arr[0] + sum_dc(arr[1:])\n"
   ]
  },
  {
   "cell_type": "markdown",
   "metadata": {},
   "source": [
    "Exercise 2: \\\n",
    "Write a recursive function to count the number of items in a list. \\\n",
    "base case : if list is empty -> count = 0\n",
    "if list has 1 element : count = 1\n",
    "recursive case : count(arr) = 1 + count(arr-1)\n",
    "let us write the python code for the same\n"
   ]
  },
  {
   "cell_type": "code",
   "execution_count": 15,
   "metadata": {},
   "outputs": [],
   "source": [
    "def count_rec(arr):\n",
    "    if (len(arr) == 1):\n",
    "        return 1\n",
    "    return 1 + count_rec(arr[1:])"
   ]
  },
  {
   "cell_type": "code",
   "execution_count": 16,
   "metadata": {},
   "outputs": [
    {
     "name": "stdout",
     "output_type": "stream",
     "text": [
      "6\n"
     ]
    }
   ],
   "source": [
    "print(count_rec(arr))"
   ]
  },
  {
   "cell_type": "markdown",
   "metadata": {},
   "source": [
    "Exercise 3 : \n",
    "Find the maximum number in a list. \\\n",
    "base case : array is empty - > no number\n",
    "            array has one element -> the number is maximum\n",
    "recursive case : Compare first element with max of (arr-1) and return the max"
   ]
  },
  {
   "cell_type": "code",
   "execution_count": 19,
   "metadata": {},
   "outputs": [],
   "source": [
    "def max_rec(arr):\n",
    "    if (len(arr) == 1):\n",
    "        return arr[0]\n",
    "    return arr[0] if arr[0] > max_rec(arr[1:]) else max_rec(arr[1:])\n"
   ]
  },
  {
   "cell_type": "code",
   "execution_count": 20,
   "metadata": {},
   "outputs": [
    {
     "name": "stdout",
     "output_type": "stream",
     "text": [
      "9\n"
     ]
    }
   ],
   "source": [
    "print(max_rec(arr))"
   ]
  },
  {
   "cell_type": "markdown",
   "metadata": {},
   "source": [
    "Remember binary search from chapter 1? It’s a divide-and-conquer algorithm, too. Can you come up with the base case and recursive case for binary search? \\\n",
    "Answer : base case : if arr[mid] == num, return\n",
    "recursive case : bin_search(arr(mid+1, last)) or bin_search(arr(low, mid-1)) \n",
    "\n"
   ]
  },
  {
   "cell_type": "markdown",
   "metadata": {},
   "source": [
    "Quicksort: \\\n",
    "Quicksort is a sorting algorithm. It is much faster than selections sort seen before. C standard library has qsort implementation, it is that popular. This algo also uses divide and conquer strategy. \\\n",
    "Simplest array which does not need sorting : \\\n",
    "Array with zero elements : [] \\\n",
    "Array with 1 element : the remaining number is the sorted element \\\n",
    "def quicksort(array):\n",
    "if len(array) < 2:\n",
    "return array\n",
    "\n",
    "\n",
    "what if three elements in an array : \\\n",
    "we want to break this array down into sub-arrays and reach towards base condition to terminate and get the result. pick an element from the array. This element is called pivot. how to pick a good pivot? it matters a lot in quicksort. \\\n",
    "let us say first element is pivot \\\n",
    "consider the array [33,15,10]. pivot = 33. \\\n",
    "find the elements larger than pivot and elements smaller than pivot. this is called partitioning. \\\n",
    "Now we have : \\\n",
    "1. sub-array of all numbers less than pivot\n",
    "2. pivot\n",
    "3. sub-array of all numbers larger than pivot. \n",
    "the new array becomes : \\\n",
    "[15,10] + [33] + [] \\\n",
    "how do we sort the sub-arrays now ? use the same principle for the sub-arrays till you reach base condition. \\\n",
    "quicksort([15,10]) + [33]. \\\n",
    "this will work with any pivot. \\\n",
    "now, what about an array of four elements: \\\n",
    "[33,10,15,7] \\\n",
    "pick a pivot : 33 \\\n",
    "partition into sub-array less than pivot + sub-array greater than pivot \\\n",
    "[10,15,7] + [33] + []. \\\n",
    "now, call quicksort on [10,15,7],which was already illustrated before. \\\n",
    "What about five elements ? same procedure till you reach base condition. \n"
   ]
  },
  {
   "cell_type": "markdown",
   "metadata": {},
   "source": [
    "Inductive proofs : \\\n",
    "Inductive proofs are a way to prove our algorithm works. Each inductive proof has two steps : base case and recursive case. there is a base case you can do, and if you do a case i and are able to case i+1 as well, then you will be able to work your way through all the cases and solution is reached. \\\n",
    "Inductive proofs go hand in hand with Divide and Conquer strategy. "
   ]
  },
  {
   "cell_type": "code",
   "execution_count": 22,
   "metadata": {},
   "outputs": [],
   "source": [
    "#quicksort code\n",
    "def quicksort(arr):\n",
    "    if len(arr) < 2:\n",
    "        return arr   # base case\n",
    "    else:\n",
    "        pivot = arr[0] # recursive case\n",
    "        less = [i for i in arr[1:] if i<=pivot]\n",
    "        greater = [i for i in arr[1:] if i > pivot ]\n",
    "        return quicksort(less) + [pivot] + quicksort(greater)\n",
    "\n"
   ]
  },
  {
   "cell_type": "code",
   "execution_count": 23,
   "metadata": {},
   "outputs": [
    {
     "data": {
      "text/plain": [
       "[4, 3, 2, 9, 0, 7]"
      ]
     },
     "execution_count": 23,
     "metadata": {},
     "output_type": "execute_result"
    }
   ],
   "source": [
    "arr"
   ]
  },
  {
   "cell_type": "code",
   "execution_count": 24,
   "metadata": {},
   "outputs": [
    {
     "name": "stdout",
     "output_type": "stream",
     "text": [
      "[0, 2, 3, 4, 7, 9]\n"
     ]
    }
   ],
   "source": [
    "print(quicksort(arr))"
   ]
  },
  {
   "cell_type": "markdown",
   "metadata": {},
   "source": [
    "Selection sort learned before has a runtime of O(n^2), which is very slow. with n being high, it takes a lot of time to sort the array. \\\n",
    "quicksort on the other hand takes O(nlog(n)), which is better than O(n^2)."
   ]
  },
  {
   "cell_type": "markdown",
   "metadata": {},
   "source": [
    "There’s another sorting algorithm called merge sort, which is O(n log n). Much faster! Quicksort is a tricky case. In the worst case, quicksort takes O(n^2) time."
   ]
  },
  {
   "cell_type": "markdown",
   "metadata": {},
   "source": [
    "in the average case, quick sort has O(nlogn). merge sort also has O(nlogn), then is merge sort better than quick sort since in the worst case, quick sort has O(n^2). not necessarily. the analysis is more subtler. \\\n",
    "actually the runtime complexity of quick sort is $c_1 * O(nlogn)$ and for merge sort it could be $c_2 * O(nlogn)$. In average cases, $c_1$ < $c_2$. And in majority of cases, data goes through the average case and thus majority of the times, quick sort is faster than merge sort. there are specific instances when quick sort takes O(n^2) and is worse than merge sort."
   ]
  },
  {
   "cell_type": "markdown",
   "metadata": {},
   "source": [
    "Average vs worst case for quicksort: \\\n",
    "Performance of quick sort depends on the pivot chosen.  Suppose you choose first element as pivot and the array is already sorted, quicksort does not check if array is already sorted, it continues splittng the array into sub-arrays, "
   ]
  },
  {
   "cell_type": "markdown",
   "metadata": {},
   "source": [
    "Consider an array  [1,2,3,4,5,6,7,8]. This is already sorted. Let us take first element as pivot every time. 1 is chosen as pivot. left subarray = [], right subarray = [2,3,4,5,6,7,8]. in the next iteration, 2 is chosen as pivot element, so, left subarray = [] and right ones are [3,4,5,6,7,8] and so on.this keeps going till 8 is reached. So, finally, length of the stack is 8 which is 8, so you iterate 8 times. now each time you put something to stack, you touch all eight elements , divide into sub-arrays, so there you have to iterate through n elements. Runtime complexity is O(n^2)."
   ]
  },
  {
   "cell_type": "markdown",
   "metadata": {},
   "source": [
    "If we take middle element as pivot, let us say 4, the left sub-array is [1,2,3] and right one is [5,6,7,8]. in the left subarray, 2 is chosen as pivot and in the right 6 is chosen.then again they are recursively split. this way the total number of layers stack is 3 which is log(n) and in each iteration, we touch upon eight elements (n). Thus, the final time complexity is O(nlogn)."
   ]
  },
  {
   "cell_type": "markdown",
   "metadata": {},
   "source": [
    "Exercises: \\\\\n",
    "How long would each of these operations take in Big O notation? \\\n",
    "1. Printing the value of each element in an array. \\\n",
    "   O(n)\n",
    "2. Doubling the value of each element in an array. \\\n",
    "   O(n)\n",
    "3. Doubling the value of just the first element in an array.\n",
    "   O(1)\n",
    "4. Creating a multiplication table with all the elements in the array. So if your array is [2, 3, 7, 8, 10], you first multiply every element by 2,\n",
    "then multiply every element by 3, then by 7, and so on.\n",
    "  O(n^2) -> you have to pick element one by one covering n iterations, and each element is to be multiplied by every other element , meaning again n elements are to be touched. \\\n",
    "  So, O(n^2)\n"
   ]
  }
 ],
 "metadata": {
  "kernelspec": {
   "display_name": "base",
   "language": "python",
   "name": "python3"
  },
  "language_info": {
   "codemirror_mode": {
    "name": "ipython",
    "version": 3
   },
   "file_extension": ".py",
   "mimetype": "text/x-python",
   "name": "python",
   "nbconvert_exporter": "python",
   "pygments_lexer": "ipython3",
   "version": "3.11.5"
  }
 },
 "nbformat": 4,
 "nbformat_minor": 2
}
