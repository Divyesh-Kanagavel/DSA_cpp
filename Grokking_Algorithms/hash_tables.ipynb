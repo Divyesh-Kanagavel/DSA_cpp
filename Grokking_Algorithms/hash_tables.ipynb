{
 "cells": [
  {
   "cell_type": "markdown",
   "metadata": {},
   "source": [
    "looking up things in a database : if the elements are unsorted - it takes linear time O(n). if the elements are sorted, it takes logarithmic time. O(logn). \\\n",
    "There is a lot of difference. But, looking up in a database is still a pain. If we have a tool which simply looks up the price or other details if given the name will save a lot of time and effort. the time complexity is simply O(1)."
   ]
  },
  {
   "cell_type": "markdown",
   "metadata": {},
   "source": [
    "Hash function :  a function that accepts a string and returns a number. Some requierements for a hash function : \\\n",
    "1. It needs to be consistent. if you put a string into hashmap, it needs to return the same number every time. \\\n",
    "2. It should map different numbers to different strings , it is not that it should return the same number for every string. "
   ]
  },
  {
   "cell_type": "markdown",
   "metadata": {},
   "source": [
    "The hash function consistently maps a name to the same index. \\\n",
    "The hash function maps different strings to different indexes. \\\n",
    "The hash function knows how big your array is and only returns valid\n",
    "indexes."
   ]
  },
  {
   "cell_type": "markdown",
   "metadata": {},
   "source": [
    "an array and a hash function together form a data structure called the hash table. Unlike arrays and linked lists, hash table is a smart data structure. It does not map directly to memory , hash map uses a hash function to map to memory. Most languages have an implementation of hash tables , for example python has dictionaries."
   ]
  },
  {
   "cell_type": "code",
   "execution_count": 1,
   "metadata": {},
   "outputs": [],
   "source": [
    "book = dict() # hash table\n",
    "book[\"apple\"] = 0.67\n",
    "book[\"milk\"] = 0.33\n",
    "book[\"eggs\"] = 2.1\n",
    "book[\"banana\"] = 3.5\n",
    "\n"
   ]
  },
  {
   "cell_type": "code",
   "execution_count": 2,
   "metadata": {},
   "outputs": [
    {
     "name": "stdout",
     "output_type": "stream",
     "text": [
      "3.5\n"
     ]
    }
   ],
   "source": [
    "print(book[\"banana\"])"
   ]
  },
  {
   "cell_type": "markdown",
   "metadata": {},
   "source": [
    "here 'banana' is key and 3.5 is value. a hash table maps keys to values"
   ]
  },
  {
   "cell_type": "markdown",
   "metadata": {},
   "source": [
    "Exercises\n",
    "It’s important for hash functions to consistently return the same output\n",
    "for the same input. If they don’t, you won’t be able to find your item\n",
    "after you put it in the hash table!\n",
    "Which of these hash functions are consistent?\n",
    "1. f(x ) = 1\n",
    "Ans : The function is consistent.\n",
    "2. f(x) = rand()\n",
    "Ans : Not consistent\n",
    "3. f(x) = next_empty_slot()\n",
    "Ans : Not consistent\n",
    "4. f(x) = len(x)\n",
    "Ans : consistent"
   ]
  },
  {
   "cell_type": "markdown",
   "metadata": {},
   "source": [
    "Hash tables are used almost anywhere a mapping between string and numbers is required. For example, if we put in the website google.com, this string is mapped to a ip address which is called DNS resolution. Hash maps are a perfect use case for this."
   ]
  },
  {
   "cell_type": "markdown",
   "metadata": {},
   "source": [
    "Preventing duplicate entries : \\\n",
    "You use a hash table to store number against a person's name. if the person is already present, it will return a value and you can prevent that person's data being fed again. This way, hash table prevents duplicates. If we have array, we would have to scan the entire list to find if entry is present. in python get function returns the value"
   ]
  },
  {
   "cell_type": "code",
   "execution_count": 3,
   "metadata": {},
   "outputs": [
    {
     "data": {
      "text/plain": [
       "1"
      ]
     },
     "execution_count": 3,
     "metadata": {},
     "output_type": "execute_result"
    }
   ],
   "source": [
    "voted = {} # an empty hash table\n",
    "voted[\"Tom\"] = 1\n",
    "voted.get(\"Tom\")"
   ]
  },
  {
   "cell_type": "code",
   "execution_count": 6,
   "metadata": {},
   "outputs": [
    {
     "data": {
      "text/plain": [
       "True"
      ]
     },
     "execution_count": 6,
     "metadata": {},
     "output_type": "execute_result"
    }
   ],
   "source": [
    "#trying to look up a key that doesn't exist returns None.\n",
    "voted.get(\"Tim\") == None"
   ]
  },
  {
   "cell_type": "code",
   "execution_count": 8,
   "metadata": {},
   "outputs": [],
   "source": [
    "voted = {}\n",
    "def check_voter(name):\n",
    "    if voted.get(name):\n",
    "        print (\"kick them out!\")\n",
    "    else:\n",
    "       voted[name] = True\n",
    "       print (\"let them vote!\")"
   ]
  },
  {
   "cell_type": "markdown",
   "metadata": {},
   "source": [
    "Website caching : \\\n",
    "Another application of hash tables. Website caching is a way to make browsing a lot faster. Instead of fetching pages from servers everytime it is requested, the most frequently visited pages are cached locally and are fetched quickly. This is a potential use case of hash map"
   ]
  },
  {
   "cell_type": "markdown",
   "metadata": {},
   "source": [
    "Request a URL -> is the date in hashmap, fetch the cached page, else make the server do some work."
   ]
  },
  {
   "cell_type": "code",
   "execution_count": 10,
   "metadata": {},
   "outputs": [],
   "source": [
    "cache = {}\n",
    "def get_data_from_server(url):\n",
    "    # get data from server with url\n",
    "    pass\n",
    "\n",
    "\n",
    "def get_page(url):\n",
    "    if cache.get(url):\n",
    "        return cache[url] #Returns cached data\n",
    "    else:\n",
    "        data = get_data_from_server(url)\n",
    "        cache[url] = data #Saves this data in your cache first\n",
    "        return data"
   ]
  },
  {
   "cell_type": "markdown",
   "metadata": {},
   "source": [
    "Collisions : \\\n",
    "Consider an example : there are 26 slots with provision to fill them alphabetically. let us say we are assigining positions for fruits. \\\n",
    "apples price goes in slot 'A', Bananas price go in 'B'. Now if we have to store avocado's price, again we ll have to use slot 'A', but apple's price will be overwritten. This is called collision. Our objective is to work around collision. \\\n",
    "One solution is if multiple keys map to same location, start a linked list in the slot. of course, if multiple keys map to same location, the linked list gets larger and larger and it is slower to retrieve info. \\\n",
    "Consider the worst case where all the items in the store begin with 'A' , it is as good as storing data in a linked list. all others are empty and only 'A' has a long list of items. \\\n",
    "Hash function is very important. the hash function should map element evenly across available slots. \\\n",
    "if the linked list in a slot gets too long, it slows down the hash map a lot. \n"
   ]
  },
  {
   "cell_type": "markdown",
   "metadata": {},
   "source": [
    "Performance : \\\n",
    "In the average case, hash table if a good hash function is very efficient. it takes constant time O(1) to get things done. that is the time taken to do stuff does not depend on the size of the input. From earlier notebooks, we know, \\\n",
    "Array : Reading : O(1), Insertion and Deletion : O(n) \\\n",
    "Linked list : Reading : O(n), Insertion and Deletion : O(1) \\\n",
    "Hash map takes the good of both worlds. \\\n",
    "Hash map : for reading, insertion and deletion , average : O(1), insertion and deletion O(n). \n",
    "To avoid collision : \n",
    "1. have a low load factor \n",
    "2. a good hash function \n"
   ]
  },
  {
   "cell_type": "markdown",
   "metadata": {},
   "source": [
    "Load factor  = Number of items in the hash table / number of slots \\\n",
    "Lower the load factor, lower the possibility of collision. If we have more number of elements in the hash table than available slots, we need to resize the hash table, general rule of thumb is to double the size, then copy the elements to that bigger array. This resizing is expensive and should be avoided. \\\n",
    "But usually on average, hash map takes O(1) even with resize. When load factor becomes 0.7, we may have to resize the array. \n"
   ]
  },
  {
   "cell_type": "markdown",
   "metadata": {},
   "source": [
    "A good hash function : \n",
    "A good hash function makes sure the items are evenly distributed across the arrays instead of being crammed at only a small number of slots.  A bad hash function groups a lot of values together and produces a lot of collisions. \\\n",
    "SHA is a very good hash function. "
   ]
  },
  {
   "cell_type": "markdown",
   "metadata": {},
   "source": [
    "Exercises : \n",
    "It’s important for hash functions to have a good distribution. They\n",
    "should map items as broadly as possible. The worst case is a hash\n",
    "function that maps all items to the same slot in the hash table.\n",
    "Suppose you have these four hash functions that work with strings: \n",
    "1. Return “1” for all input. \n",
    "\n",
    "2. Use the length of the string as the index. \n",
    "\n",
    "3. Use the first character of the string as the index. So, all strings\n",
    "starting with a are hashed together, and so on. \n",
    "\n",
    "4. Map every letter to a prime number: a = 2, b = 3, c = 5, d = 7,\n",
    "e = 11, and so on. For a string, the hash function is the sum of all\n",
    "the characters modulo the size of the hash. For example, if your\n",
    "hash size is 10, and the string is “bag”, the index is 3 + 2 + 17 %\n",
    "10 = 22 % 10 = 2. \n"
   ]
  },
  {
   "cell_type": "markdown",
   "metadata": {},
   "source": [
    "For each of these examples, which hash functions \\\n",
    "1.A phonebook where the keys are names and values are phone\n",
    "numbers. The names are as follows: Esther, Ben, Bob, and Dan.\n",
    "Ans : 1 is the worst hash function. always returns 1, making it highly populated and having others empty. 2 also does not give good results as we have three names with three letters. 3 is okay, but again we have two names with letter B, so others are still not used. 4 would give a good distribution as we assign primes to letters and take modulo as output.\n",
    "2. A mapping from battery size to power. The sizes are A, AA, AAA,\n",
    "and AAAA. \n",
    "Ans: The names all begin with A, so 3 is ruled out, 1 is always ruled out [it is the worst]. 2 and 4 can be used since they alway assign distinct hash map slots to inputs. \n",
    "3. A mapping from book titles to authors. The titles are Maus, Fun\n",
    "Home, and Watchmen. \n",
    "Ans: 3 and 4 could be good options. they will distribute the samples well across the slots.\n",
    "\n",
    "\n"
   ]
  },
  {
   "cell_type": "markdown",
   "metadata": {},
   "source": []
  }
 ],
 "metadata": {
  "kernelspec": {
   "display_name": "base",
   "language": "python",
   "name": "python3"
  },
  "language_info": {
   "codemirror_mode": {
    "name": "ipython",
    "version": 3
   },
   "file_extension": ".py",
   "mimetype": "text/x-python",
   "name": "python",
   "nbconvert_exporter": "python",
   "pygments_lexer": "ipython3",
   "version": "3.11.5"
  }
 },
 "nbformat": 4,
 "nbformat_minor": 2
}
