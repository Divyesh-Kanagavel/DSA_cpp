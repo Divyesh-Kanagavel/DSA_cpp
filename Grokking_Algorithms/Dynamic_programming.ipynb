{
 "cells": [
  {
   "cell_type": "markdown",
   "metadata": {},
   "source": [
    "Dynamic programming : a technique to solve a hard problem by breaking it up into subproblems and solving those subproblems first."
   ]
  },
  {
   "cell_type": "markdown",
   "metadata": {},
   "source": [
    "Consider knapsack problem - a thief is carrying a knapsack which can carry 4lbs. the items available for stealing are 1. Stereo [4lbs & Rs.3000], 2. Laptop [3lbs & Rs.2000] , 3. Guitar [1lbs & Rs.1500].\n",
    "The correct way to steal is to first write down all possible combinations and pick the combination which yields maximum amount. For 3 items , we have 8 possible sets. for 4 items, we have 16 possible sets. for n items, it blows to 2^n sets."
   ]
  },
  {
   "cell_type": "markdown",
   "metadata": {},
   "source": [
    "This is impractical when scaled to large number of items. thus, we need to rely on approximate solutions such as greedy strategy or there is another strategy - 'dynamic programming'. \\\n",
    "Dynamic problem solves subproblems and builds up solving the problem.\n",
    "For example, for knapsack problem, you solve sub-knapsacks and then build up to solving the original knapsack problem."
   ]
  },
  {
   "cell_type": "markdown",
   "metadata": {},
   "source": [
    "for the same knapsack problem with three items guitar [1lb and 1500$], stereo [4lb and 3000$], laptop [3lb and 2000$], we construct a grid with rows indicating the item and columns indicating the weight of knapsacks [increasing from lowest weight 1lb to max weight 4lb] . the idea is if subproblem are solved, they can be used in higher level of problems. we start populating the grid starting from first item till all items are analyzed. the formula for filling the grid is: \\\n",
    "cell[i][j] = max (cell[i-1][j], current item + cell[i-1][j-item's weight]) \\\n",
    "this way entire grid can be filled and the best combination can be found out."
   ]
  },
  {
   "cell_type": "markdown",
   "metadata": {},
   "source": [
    "If a new item is added, an additional row has to be filled with the same formula and it will eventually solve the problem. As we go down the row, the value of column would never go down because we are always choosing the max of previous cell value and possible current cell values."
   ]
  },
  {
   "cell_type": "markdown",
   "metadata": {},
   "source": [
    "The order of the rows does not change. even if you fill the grid with a different order of items, it will still give the same results. \\\n",
    "Filling a grid column wise instead of row wise might sometimes give correct results but not always. filling row-wise is the right way to do."
   ]
  },
  {
   "cell_type": "markdown",
   "metadata": {},
   "source": [
    "If we now add a necklace of 0.5 lbs into the grid, we need to modify the columns to add more granularity because we have non-integral values now."
   ]
  },
  {
   "cell_type": "markdown",
   "metadata": {},
   "source": [
    "Fractions of an item ? \\\n",
    "Dynamic programming only helps solve a problem where we can either take the item or leave it, now carry parts of it. such cases may be better off be solved using greedy algorithms, where you pick as much as possible till knapsack is filled. If the item is done but knapsack still has space, we add the next best item and so on."
   ]
  },
  {
   "cell_type": "markdown",
   "metadata": {},
   "source": [
    "Handling problems that depend on one another : \\\n",
    "there may be circumstances where one scenario may depend on another. you may have an itinerary of british cities with ratings and time required to visit. we may pose this as a dynamic problem and solve. If we have to include paris now to this list, [louvre, eiffel tower, notre dame]. travelling to paris takes 1 day and then visiting each of these will take 0.5 days. so, once you reach paris, you can quickly visit each of the places. otherwise, it is not worth travelling to once place in paris alone. \\\n",
    "these types of conditional search spaces cannot be handled by dynamic programming, it requires discrete sub -problems"
   ]
  },
  {
   "cell_type": "markdown",
   "metadata": {},
   "source": [
    "Exercise 9.2 :\n",
    "Suppose you’re going camping. You have a knapsack that will hold\n",
    "6 lb, and you can take the following items. Each has a value, and the\n",
    "higher the value, the more important the item is:\n",
    "\n",
    "Water, 3 lb, 10\n",
    "• Book, 1 lb, 3\n",
    "• Food, 2 lb, 9\n",
    "• Jacket, 2 lb, 5\n",
    "• Camera, 1 lb, 6\n",
    "\n",
    "What’s the optimal set of items to take on your camping trip?\n",
    "\n",
    "Ans: the grid is as follows\n",
    "\n",
    "         1lb  2lb  3lb  4lb  5lb  6lb\n",
    "Water    0     0   10w  10w  10w  10w\n",
    "Book     3b    3b  10w  13bw 13bw 13bw\n",
    "Food     3b    9f  12bf 13bw 19fw 22bwf\n",
    "Jacket   3b    9f  12bf 14fj 19fw 24wjf\n",
    "Camera   6b    9f  15fc  16wc 19fw 25 wfc\n",
    "\n",
    "carry food,water and camera"
   ]
  }
 ],
 "metadata": {
  "kernelspec": {
   "display_name": "base",
   "language": "python",
   "name": "python3"
  },
  "language_info": {
   "name": "python",
   "version": "3.11.5"
  }
 },
 "nbformat": 4,
 "nbformat_minor": 2
}
