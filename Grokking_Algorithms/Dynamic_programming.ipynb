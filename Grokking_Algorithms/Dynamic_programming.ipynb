{
 "cells": [
  {
   "cell_type": "markdown",
   "metadata": {},
   "source": [
    "Dynamic programming : a technique to solve a hard problem by breaking it up into subproblems and solving those subproblems first."
   ]
  },
  {
   "cell_type": "markdown",
   "metadata": {},
   "source": [
    "Consider knapsack problem - a thief is carrying a knapsack which can carry 4lbs. the items available for stealing are 1. Stereo [4lbs & Rs.3000], 2. Laptop [3lbs & Rs.2000] , 3. Guitar [1lbs & Rs.1500].\n",
    "The correct way to steal is to first write down all possible combinations and pick the combination which yields maximum amount. For 3 items , we have 8 possible sets. for 4 items, we have 16 possible sets. for n items, it blows to 2^n sets."
   ]
  },
  {
   "cell_type": "markdown",
   "metadata": {},
   "source": [
    "This is impractical when scaled to large number of items. thus, we need to rely on approximate solutions such as greedy strategy or there is another strategy - 'dynamic programming'. \\\n",
    "Dynamic problem solves subproblems and builds up solving the problem.\n",
    "For example, for knapsack problem, you solve sub-knapsacks and then build up to solving the original knapsack problem."
   ]
  },
  {
   "cell_type": "markdown",
   "metadata": {},
   "source": [
    "for the same knapsack problem with three items guitar [1lb and 1500$], stereo [4lb and 3000$], laptop [3lb and 2000$], we construct a grid with rows indicating the item and columns indicating the weight of knapsacks [increasing from lowest weight 1lb to max weight 4lb] . the idea is if subproblem are solved, they can be used in higher level of problems. we start populating the grid starting from first item till all items are analyzed. the formula for filling the grid is: \\\n",
    "cell[i][j] = max (cell[i-1][j], current item + cell[i-1][j-item's weight]) \\\n",
    "this way entire grid can be filled and the best combination can be found out."
   ]
  },
  {
   "cell_type": "markdown",
   "metadata": {},
   "source": [
    "If a new item is added, an additional row has to be filled with the same formula and it will eventually solve the problem. As we go down the row, the value of column would never go down because we are always choosing the max of previous cell value and possible current cell values."
   ]
  },
  {
   "cell_type": "markdown",
   "metadata": {},
   "source": [
    "The order of the rows does not change. even if you fill the grid with a different order of items, it will still give the same results. \\\n",
    "Filling a grid column wise instead of row wise might sometimes give correct results but not always. filling row-wise is the right way to do."
   ]
  },
  {
   "cell_type": "markdown",
   "metadata": {},
   "source": [
    "If we now add a necklace of 0.5 lbs into the grid, we need to modify the columns to add more granularity because we have non-integral values now."
   ]
  },
  {
   "cell_type": "markdown",
   "metadata": {},
   "source": [
    "Fractions of an item ? \\\n",
    "Dynamic programming only helps solve a problem where we can either take the item or leave it, now carry parts of it. such cases may be better off be solved using greedy algorithms, where you pick as much as possible till knapsack is filled. If the item is done but knapsack still has space, we add the next best item and so on."
   ]
  },
  {
   "cell_type": "markdown",
   "metadata": {},
   "source": [
    "Handling problems that depend on one another : \\\n",
    "there may be circumstances where one scenario may depend on another. you may have an itinerary of british cities with ratings and time required to visit. we may pose this as a dynamic problem and solve. If we have to include paris now to this list, [louvre, eiffel tower, notre dame]. travelling to paris takes 1 day and then visiting each of these will take 0.5 days. so, once you reach paris, you can quickly visit each of the places. otherwise, it is not worth travelling to once place in paris alone. \\\n",
    "these types of conditional search spaces cannot be handled by dynamic programming, it requires discrete sub -problems"
   ]
  },
  {
   "cell_type": "markdown",
   "metadata": {},
   "source": [
    "Exercise 9.2 :\n",
    "Suppose you’re going camping. You have a knapsack that will hold\n",
    "6 lb, and you can take the following items. Each has a value, and the\n",
    "higher the value, the more important the item is:\n",
    "\n",
    "Water, 3 lb, 10\n",
    "• Book, 1 lb, 3\n",
    "• Food, 2 lb, 9\n",
    "• Jacket, 2 lb, 5\n",
    "• Camera, 1 lb, 6\n",
    "\n",
    "What’s the optimal set of items to take on your camping trip?\n",
    "\n",
    "Ans: the grid is as follows\n",
    "\n",
    "         1lb  2lb  3lb  4lb  5lb  6lb\n",
    "Water    0     0   10w  10w  10w  10w\n",
    "Book     3b    3b  10w  13bw 13bw 13bw\n",
    "Food     3b    9f  12bf 13bw 19fw 22bwf\n",
    "Jacket   3b    9f  12bf 14fj 19fw 24wjf\n",
    "Camera   6b    9f  15fc  16wc 19fw 25 wfc\n",
    "\n",
    "carry food,water and camera"
   ]
  },
  {
   "cell_type": "code",
   "execution_count": null,
   "metadata": {
    "vscode": {
     "languageId": "plaintext"
    }
   },
   "outputs": [],
   "source": [
    "Longest common substring:\n",
    "\n",
    "Some dynamic programming tips: \\\n",
    "Every dynamic programming solution involves a grid.\n",
    "The values in the cell are to be optimized.\n",
    "Each cell is a subproblem.\n",
    "\n"
   ]
  },
  {
   "cell_type": "code",
   "execution_count": null,
   "metadata": {
    "vscode": {
     "languageId": "plaintext"
    }
   },
   "outputs": [],
   "source": [
    "Image there is a website dictionary.com which returns meanings of words. If the user misspells a word, you try to \n",
    "smartly figure out the closest meaninful word. For example, if user types hish, is it closer to fish or vista?\n"
   ]
  },
  {
   "cell_type": "code",
   "execution_count": null,
   "metadata": {
    "vscode": {
     "languageId": "plaintext"
    }
   },
   "outputs": [],
   "source": [
    "Making the grid:\n",
    "how does the grid look like for this problem. what are the values of the cells?\n",
    "How do you divide this problem into subproblem?\n",
    "What are the axes of the grid?\n",
    "\n",
    "We want to maximize the value in the cell, in this case, the length of the longest substring between the two words \n",
    "can be a feature which can be maximized. Using the ideas of dynamic programming, first we could find longest substring between\n",
    "smaller sub-words and then build on the two complete words .The two words then could be axes and the length of the common \n",
    "substring could be the value in the cell. \\\n",
    "To fill up the grid with values, need to devise a formula just like the one which was used before. \\\n",
    "there is no one-shot formula for all scenarios.\n",
    "\n",
    "    V I  S  H         V  I  S  H\n",
    "F   0  0  0  0     V  1  0  0  0\n",
    "I   0  1  0  0     I  0  2  0  0\n",
    "S   0  0  2  0     S  0  0  3  0\n",
    "H   0  0  0  3     T  0  0  0  0\n",
    "                   A  0  0  0  0\n",
    "\n",
    "The formula used is : \n",
    "is the row and column letters match, then the value of the cell is 1 + value in top-left neighbor,else zero.\n",
    "This way, we keep track of the length of longest common substring. In the above case, both vista and fish have\n",
    "same substring length. In the last knapsack example, we had the maximum value in the last row and last column, \n",
    "but here, it could be anyway, the answer is the largest value in the grid. Both have 3 going by the logic, \n",
    "but fish is chosen because the length of strings match for fish.\n"
   ]
  },
  {
   "cell_type": "code",
   "execution_count": null,
   "metadata": {
    "vscode": {
     "languageId": "plaintext"
    }
   },
   "outputs": [],
   "source": [
    "formula in pseudo code:\n",
    "if word1[i] == word2[j]:\n",
    "   cell[i][j] = cell[i-1][j-1] + 1\n",
    "else:\n",
    "    cell[i][j] = 0"
   ]
  },
  {
   "cell_type": "markdown",
   "metadata": {},
   "source": [
    "Longest commom subsequence  : \n",
    "there are cases where length of common substring are the same yet two words seem closely related compared to the other pair. For example, fish and fosh seem closer than fosh and fort. both have longest substring of 2 letters each, but longest subsequence is 3 letters for case 1 and 2 letters for case 2. [longest common subsequence meaning number of common letters in two strings].\n",
    "   F  O   S  H\n",
    "F  1  1   1  1\n",
    "I  1  1   1  1\n",
    "S  1  1   2  2\n",
    "H  1  1   2  3\n",
    "\n",
    "The formula could be \\\n",
    "if word1[i] == word2[j]:\n",
    "    cell[i][j] = cell[i-1][j-1] + 1\n",
    "else:\n",
    "    cell[i][j] = max(cell[i-1][j], cell[i][j-1])\n",
    "\n"
   ]
  },
  {
   "cell_type": "markdown",
   "metadata": {},
   "source": [
    "Dynamic programming is used in a lot of places: \\\n",
    "1. Biologists find the longest common subsequence to find the similarities in DNA strands.\n",
    "2. git diff in git tool uses dynamic programming to find diff between commits.\n",
    "3. string similarity : Levenshtein distance measures how similarity between two strings. It is used in variety of applications like spell check etc"
   ]
  },
  {
   "cell_type": "markdown",
   "metadata": {},
   "source": [
    "Exercise: \n",
    "\n",
    "Draw and fill in the grid to calculate the longest common substring\n",
    "between blue and clues. \n",
    "\n",
    "    C L U E S \n",
    "\n",
    "B   0 0 0 0 0  \n",
    "\n",
    "L   0 1 0 0 0 \n",
    "\n",
    "U   0 0 2 0 0  \n",
    "\n",
    "E   0 0 0 3 0  \n",
    "\n",
    "Longest common substring = LUE of length 3"
   ]
  },
  {
   "cell_type": "markdown",
   "metadata": {},
   "source": []
  },
  {
   "cell_type": "markdown",
   "metadata": {},
   "source": []
  }
 ],
 "metadata": {
  "kernelspec": {
   "display_name": "base",
   "language": "python",
   "name": "python3"
  },
  "language_info": {
   "name": "python",
   "version": "3.11.5"
  }
 },
 "nbformat": 4,
 "nbformat_minor": 2
}
