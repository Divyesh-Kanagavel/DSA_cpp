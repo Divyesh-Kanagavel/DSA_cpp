{
 "cells": [
  {
   "cell_type": "markdown",
   "metadata": {},
   "source": [
    "Graph  - an abstract data structure. Graph algorithms like BFS, DFS, Dijkstra's are some of the most useful algorithms. \\\n",
    "Writing an AI to win checkers with the least steps \\\n",
    "Find the nearest doctor in a network \\\n",
    "a spell checker which can go from wrong spelling to right spelling with the fewest edits. "
   ]
  },
  {
   "cell_type": "markdown",
   "metadata": {},
   "source": [
    "A graph models a set of connections. Graph has nodes and edges. A node is connected to its neighbor nodes through edges. Graphs are a way to model how different things are connected to one\n",
    "another."
   ]
  },
  {
   "cell_type": "markdown",
   "metadata": {},
   "source": [
    "Breadth-First Search \\\n",
    "It is a shortest-path problem solver algorithm. It is extensively applied on graphs. it answers two questions : \n",
    "1. Is there a path between node A and node B ? \n",
    "2. If so, what is the shortest path? \n"
   ]
  },
  {
   "cell_type": "markdown",
   "metadata": {},
   "source": [
    "Suppose , you need to sell mangoes and would like to connect with a mango buyer or dealer. You search in your facebook contacts. this forms first layer of connections. If you don't find any, you go search the friends of friends and try all the second layer connections. This way, you search layer by layer, in other words, you are doing Breadth-wise search. This helps determine if there is a path from node A to node B and if there is one, it helps find shortest path between A and B. because you scan through closest connections first."
   ]
  },
  {
   "cell_type": "markdown",
   "metadata": {},
   "source": [
    "We need to search through nodes in the order they were added so that closest layers are searched first. the data structures which is useful for this is queue. It permits only two oeprations - enque and deque. the element which enters first is read first.Queue is a FIFO data structure [First in First Out]. In contrast, stack is LIFO [Last In First Out]"
   ]
  },
  {
   "cell_type": "markdown",
   "metadata": {},
   "source": [
    "To map a node to all its neighbors, you need a data structure and hash table does a pretty good job mapping the nodes to all of its neighbors. "
   ]
  },
  {
   "cell_type": "code",
   "execution_count": 1,
   "metadata": {},
   "outputs": [],
   "source": [
    "#Graph example\n",
    "graph = {}\n",
    "graph[\"you\"] = [\"alice\",\"bob\",\"claire\"] # node you is connected to alice, bob and claire : a node mapped to an array of nodes\n",
    "\n"
   ]
  },
  {
   "cell_type": "markdown",
   "metadata": {},
   "source": [
    "it does not matter in what order we add the elements in a graph. Hashmaps have no order. they simply map a string to a memory location through a hashing function.\n",
    "So, graph[\"anuj] = [], graph[\"claire] = [\"alice\"] is the same as \\\n",
    "graph[\"claire\"] = [\"alice\"] graph[\"anuj] = []"
   ]
  },
  {
   "cell_type": "markdown",
   "metadata": {},
   "source": [
    "Directed graph : you have edges going from one node to another but not necessarily in the opposite direction. For example, Bob is Anuj's neighbor but Anuj is not Bob's. Undirected graphs have no directions. if two nodes are connected, it means both are equals."
   ]
  },
  {
   "cell_type": "markdown",
   "metadata": {},
   "source": [
    "BFS algorithm: \n",
    "Fill up the queue with list of nodes to search. \n",
    "Pop a member, if it is the requried node, return. else, add its friends which are not in the queue already. \n",
    "If all the nodes have been searched and no match, it implies that the node is not in the network."
   ]
  },
  {
   "cell_type": "code",
   "execution_count": 3,
   "metadata": {},
   "outputs": [],
   "source": [
    "# graph\n",
    "graph = {}\n",
    "graph[\"you\"] = [\"alice\", \"bob\", \"claire\"]\n",
    "graph[\"bob\"] = [\"anuj\", \"peggy\"]\n",
    "graph[\"alice\"] = [\"peggy\"]\n",
    "graph[\"claire\"] = [\"thom\", \"jonny\"]\n",
    "graph[\"anuj\"] = []\n",
    "graph[\"peggy\"] = []\n",
    "graph[\"thom\"] = []\n",
    "graph[\"jonny\"] = []"
   ]
  },
  {
   "cell_type": "code",
   "execution_count": 4,
   "metadata": {},
   "outputs": [
    {
     "data": {
      "text/plain": [
       "{'you': ['alice', 'bob', 'claire'],\n",
       " 'bob': ['anuj', 'peggy'],\n",
       " 'alice': ['peggy'],\n",
       " 'claire': ['thom', 'jonny'],\n",
       " 'anuj': [],\n",
       " 'peggy': [],\n",
       " 'thom': [],\n",
       " 'jonny': []}"
      ]
     },
     "execution_count": 4,
     "metadata": {},
     "output_type": "execute_result"
    }
   ],
   "source": [
    "graph"
   ]
  },
  {
   "cell_type": "code",
   "execution_count": 6,
   "metadata": {},
   "outputs": [],
   "source": [
    "from collections import deque # a double ended queue, don't confuse with dequeue i.e pop\n",
    "search_queue = deque()\n",
    "search_queue += graph[\"you\"]"
   ]
  },
  {
   "cell_type": "code",
   "execution_count": 7,
   "metadata": {},
   "outputs": [],
   "source": [
    "def person_is_seller(name):\n",
    "    return name[-1] == 'j'"
   ]
  },
  {
   "cell_type": "code",
   "execution_count": 8,
   "metadata": {},
   "outputs": [],
   "source": [
    "def BFS_graph(graph, search_queue):\n",
    "    while search_queue:\n",
    "        person = search_queue.popleft() # first person in the queue\n",
    "        if person_is_seller(person):\n",
    "            print(person+\" is a mango seller!\")\n",
    "            return True\n",
    "        else:\n",
    "            search_queue += graph[person]\n",
    "    return False"
   ]
  },
  {
   "cell_type": "code",
   "execution_count": 9,
   "metadata": {},
   "outputs": [
    {
     "name": "stdout",
     "output_type": "stream",
     "text": [
      "anuj is a mango seller!\n"
     ]
    },
    {
     "data": {
      "text/plain": [
       "True"
      ]
     },
     "execution_count": 9,
     "metadata": {},
     "output_type": "execute_result"
    }
   ],
   "source": [
    "BFS_graph(graph,search_queue=search_queue\n",
    "          )"
   ]
  },
  {
   "cell_type": "markdown",
   "metadata": {},
   "source": [
    "There is a bug in the code above. duplicates could be avoided. there is no check to add elements which are not in the queue already. This could cause infinite loop and lead to stack overflow."
   ]
  },
  {
   "cell_type": "code",
   "execution_count": 10,
   "metadata": {},
   "outputs": [],
   "source": [
    "def BFS_graph_correct(name):\n",
    "    search_queue = deque()\n",
    "    search_queue += graph[name]\n",
    "    searched = []\n",
    "    while search_queue:\n",
    "        person = search_queue.popleft()\n",
    "        if person not in searched:\n",
    "            if person_is_seller(person):\n",
    "                print(person+\" is a mango seller!\")\n",
    "                return True\n",
    "            else:\n",
    "                search_queue += graph[person]\n",
    "                searched.append(person)\n",
    "    return False"
   ]
  },
  {
   "cell_type": "code",
   "execution_count": 11,
   "metadata": {},
   "outputs": [
    {
     "name": "stdout",
     "output_type": "stream",
     "text": [
      "anuj is a mango seller!\n"
     ]
    },
    {
     "data": {
      "text/plain": [
       "True"
      ]
     },
     "execution_count": 11,
     "metadata": {},
     "output_type": "execute_result"
    }
   ],
   "source": [
    "BFS_graph_correct(\"you\")"
   ]
  },
  {
   "cell_type": "markdown",
   "metadata": {},
   "source": [
    "Runtime analysis :\n",
    "1. To scan the entire graph, we go through all edges. So, the runtime is proportional to number of edges O(E).\n",
    "2. Also, while building queue, we add the neighbors of a node in O(1), constant time operation. We do this for all nodes/vertices. So, the runtime is proportional to O(V). \n",
    "Total runtime is O(V+E)."
   ]
  },
  {
   "cell_type": "markdown",
   "metadata": {},
   "source": [
    "In a graph, if task A depends on task B, then task A appears after task B, and this is said to be topologically sorted. If you want to do a search where chronology of tasks is of importance, you do topological sort to organize the list of tasks to do."
   ]
  },
  {
   "cell_type": "markdown",
   "metadata": {},
   "source": [
    "A tree is a special kind of graph, where the edges go one way , down from parent to child and don't ever go back up."
   ]
  },
  {
   "cell_type": "code",
   "execution_count": null,
   "metadata": {},
   "outputs": [],
   "source": []
  }
 ],
 "metadata": {
  "kernelspec": {
   "display_name": "base",
   "language": "python",
   "name": "python3"
  },
  "language_info": {
   "codemirror_mode": {
    "name": "ipython",
    "version": 3
   },
   "file_extension": ".py",
   "mimetype": "text/x-python",
   "name": "python",
   "nbconvert_exporter": "python",
   "pygments_lexer": "ipython3",
   "version": "3.11.5"
  }
 },
 "nbformat": 4,
 "nbformat_minor": 2
}
