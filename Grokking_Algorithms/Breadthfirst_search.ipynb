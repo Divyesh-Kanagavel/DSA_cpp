{
 "cells": [
  {
   "cell_type": "markdown",
   "metadata": {},
   "source": [
    "Graph  - an abstract data structure. Graph algorithms like BFS, DFS, Dijkstra's are some of the most useful algorithms. \\\n",
    "Writing an AI to win checkers with the least steps \\\n",
    "Find the nearest doctor in a network \\\n",
    "a spell checker which can go from wrong spelling to right spelling with the fewest edits. "
   ]
  },
  {
   "cell_type": "markdown",
   "metadata": {},
   "source": [
    "A graph models a set of connections. Graph has nodes and edges. A node is connected to its neighbor nodes through edges. Graphs are a way to model how different things are connected to one\n",
    "another."
   ]
  },
  {
   "cell_type": "markdown",
   "metadata": {},
   "source": [
    "Breadth-First Search \\\n",
    "It is a shortest-path problem solver algorithm. It is extensively applied on graphs. it answers two questions : \n",
    "1. Is there a path between node A and node B ? \n",
    "2. If so, what is the shortest path? \n"
   ]
  },
  {
   "cell_type": "markdown",
   "metadata": {},
   "source": []
  }
 ],
 "metadata": {
  "kernelspec": {
   "display_name": "base",
   "language": "python",
   "name": "python3"
  },
  "language_info": {
   "name": "python",
   "version": "3.11.5"
  }
 },
 "nbformat": 4,
 "nbformat_minor": 2
}
