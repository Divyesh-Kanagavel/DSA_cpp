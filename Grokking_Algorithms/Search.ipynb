{
 "cells": [
  {
   "cell_type": "markdown",
   "metadata": {},
   "source": [
    "Binary search:\n",
    "To search for a particular instance, most programs use binary search.\n",
    "Input : sorted list of elements\n",
    "Return : the position of the element in the list and null if unavailable.\n",
    "Searching for an element from number 1 one by one is linear search and is very inefficient.\n",
    "In the worst case, we would have to traverse through n elements where n is the size of the list\n",
    "In binary search, we cut down the total number of elements to search by a factor of 2 every iteration. Hence the time could be brought down to as low as log2n. \n",
    "For example, for a dataset of 240000 words, linear search could go as big as 240000 searchers whereas for binary search, it is just 18 steps."
   ]
  },
  {
   "cell_type": "code",
   "execution_count": 6,
   "metadata": {},
   "outputs": [],
   "source": [
    "def binary_search(list, item):\n",
    "    low = 0\n",
    "    high = len(list)-1\n",
    "    while (low <=high):\n",
    "        mid = int((low+high)/2)\n",
    "        guess = list[mid]\n",
    "        if guess == item:\n",
    "            return mid\n",
    "        if guess > item:\n",
    "            high = mid - 1\n",
    "        else:\n",
    "            low = mid + 1\n",
    "    return None\n",
    "\n",
    "\n"
   ]
  },
  {
   "cell_type": "code",
   "execution_count": 4,
   "metadata": {},
   "outputs": [],
   "source": [
    "my_list = [1, 3, 5, 7, 9]"
   ]
  },
  {
   "cell_type": "code",
   "execution_count": 8,
   "metadata": {},
   "outputs": [
    {
     "name": "stdout",
     "output_type": "stream",
     "text": [
      "4\n",
      "None\n"
     ]
    }
   ],
   "source": [
    "print (binary_search(my_list,9))\n",
    "print(binary_search(my_list, 11))"
   ]
  },
  {
   "cell_type": "markdown",
   "metadata": {},
   "source": [
    "#Exercises :\n",
    "1.Suppose you have a sorted list of 128 names, and you’re searching\n",
    "through it using binary search. What’s the maximum number of\n",
    "steps it would take?\n",
    "Ans : log2(128) = 7\n",
    "2. Suppose you double the size of the list. What’s the maximum\n",
    "number of steps now?\n",
    "Ans : n = 2 * 128 = 256. \n",
    "      log2(2*n) = log2(2) + log2(n) = 1 + 7 = 8"
   ]
  },
  {
   "cell_type": "markdown",
   "metadata": {},
   "source": [
    "Runtimes: \n",
    "Runtimes of algorithms don't grow at the same rates. Some algorithms grow at a slower pace that is with increase in the size of input, they take a little more time [for example binary search : with log2(n) as its time complexity]. other algorithms take a lot more time with increase in input size , for example linear search which takes n time with size of inputs being n. \\\n",
    "for 100 elements, linear search takes 100 ms, assuming an operations takes 1 ms, and binary search takes log2(100) ~ 7 ms with linear search approximately being 5 times slower. let us say the list size is a billion now, binary search takes 32 ms and linear search does not take 32 *5 ms now. the linear search is a billion ms ~ 11 days. because the proportion of runtimes is dependent on the value n . ratio = log2(n) / n.\n",
    "\n",
    "This sort of analysis is called big O analysis. for eg. O(n), O(log2n)"
   ]
  },
  {
   "cell_type": "markdown",
   "metadata": {},
   "source": [
    "big O is a worst case scenario analysis .suppose you are going through a phone book and wan to search Aakash, it might be the first name, so you need to go through the first name alone, does it mean it is O(1) algorithm. No! Big O deals with worst case scenarios. \n",
    "Usually for analyses, we care about worst case and average cases."
   ]
  },
  {
   "cell_type": "markdown",
   "metadata": {},
   "source": [
    "Some common big Os:\n",
    "O(logn) -> binary search\n",
    "O(n) -> linear search\n",
    "O(nlogn) -> fast sorting technique like quicksort\n",
    "O(n^2) -> slow sorting technique like selection sort\n",
    "O(n!) -> very slow algorithm like the travelling salesman problem"
   ]
  },
  {
   "cell_type": "markdown",
   "metadata": {},
   "source": [
    "Exercises:\n",
    "Give runtimes for each of the following cases:\n",
    "3. You have a name, and you want to find the person’s phone number\n",
    "in the phone book.\n",
    "Ans : log2(n)\n",
    "4.You have a phone number, and you want to find the person’s name\n",
    "in the phone book\n",
    "Ans : n\n",
    "5. You want to read the numbers of every person in the phone book.\n",
    "Ans : n\n",
    "6. You want to read the numbers of just the As. (This is a tricky one!\n",
    "It involves concepts that are covered more in chapter 4. Read the\n",
    "answer—you may be surprised!)\n",
    "Ans : O(n)\n",
    "\n"
   ]
  },
  {
   "cell_type": "markdown",
   "metadata": {},
   "source": [
    "Travelling salesman problem: \\\n",
    "The problem whose solution has the dreaded O(n!) runtime.\n",
    "Suppose a salesperson has to travel to 5 cities, in which order should he travel to minimize distance/time. We need the distances between 5 cities and then find the sum of distances for all possible combinations -> for 5 cities, there could be 5! combinations= 120. For six, it goes to 720(6!) and so on. There is no other way to improve this apparently [even smart people say so!]"
   ]
  }
 ],
 "metadata": {
  "kernelspec": {
   "display_name": "base",
   "language": "python",
   "name": "python3"
  },
  "language_info": {
   "codemirror_mode": {
    "name": "ipython",
    "version": 3
   },
   "file_extension": ".py",
   "mimetype": "text/x-python",
   "name": "python",
   "nbconvert_exporter": "python",
   "pygments_lexer": "ipython3",
   "version": "3.11.5"
  }
 },
 "nbformat": 4,
 "nbformat_minor": 2
}
