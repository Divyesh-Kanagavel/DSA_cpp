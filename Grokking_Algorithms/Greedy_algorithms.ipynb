{
 "cells": [
  {
   "cell_type": "markdown",
   "metadata": {},
   "source": [
    "Classes scheduling problem:\n",
    "Suppose we have a classroom and want to schedule as many classes as possible in this classroom. Here is the list of classes:\n",
    "Art - 9.00:10.00\n",
    "Eng - 9:30:10:30\n",
    "Math - 10:00:11:00\n",
    "CS - 10:30:11:30\n",
    "Music - 11:00:12:00 \\\n",
    "There is overlap, so all classes cannot be accommodated. \\\n",
    "One algorithm could be to pick the class which ends the soonest. then pick the class which starts immediately after this class and select the class which ends the soonest from the available candidates. Let us try this algo on the list \\\n",
    "Art begins first , so you select that . Then , the class begins which immediately after art is math. you add that. then after math, the next immediately beginning class is music and you add that. \\\n",
    "This is a greedy algorithm. It is easy to think about and implement. at any given instance, you select the option which is the best optimizing locally and thereby hoping this would lead to global optimum. \\\n",
    "Obviously , this does not work always. we can come up with many counterexamples where greedy algorithm fails because it does not take into account future scenarios and only worries about the information in hand. But , the greedy algorithm is good enough to solve the scheduling problem."
   ]
  },
  {
   "cell_type": "markdown",
   "metadata": {},
   "source": [
    "Knapsack problem : Suppose a thief has knapsack. he can steal a maximum of 35 kgs in that knapsack. what is the maximum priced item he can keep. say, we have three items: a. item 1, 35 kg, 2000 rs b. item 2, 15 kg 1000 rs, item c. item c, 20 kg, 1500rs. The greedy way of solving it is to pick up item 1, of 35 kg and rs 2000. but, this is a local optimum. the ideal solution is to pick item2 and item3 together of cost 2500 rs"
   ]
  },
  {
   "cell_type": "markdown",
   "metadata": {},
   "source": [
    "Greedy algorithm shines in situations where a simple, easy to write algorithm is requried which solves the problem pretty well [and not perfect]"
   ]
  },
  {
   "cell_type": "markdown",
   "metadata": {},
   "source": [
    "Exercise 8.1 : You work for a furniture company, and you have to ship furniture\n",
    "all over the country. You need to pack your truck with boxes. All\n",
    "the boxes are of different sizes, and you’re trying to maximize the\n",
    "space you use in each truck. How would you pick boxes to maximize\n",
    "space? Come up with a greedy strategy. Will that give you the\n",
    "optimal solution?\n",
    "Answer : Select a largest box which fits in the available space. put it in truck and repeat this procedure till you have a box which cannot be fit in the truck. this is the greedy solution. this may not give the optimal solution.\n",
    "\n",
    "Exercise 8.2:\n",
    "You’re going to Europe, and you have seven days to see everything\n",
    "you can. You assign a point value to each item (how much you want\n",
    "to see it) and estimate how long it takes. How can you maximize the\n",
    "point total (seeing all the things you really want to see) during your\n",
    "stay? Come up with a greedy strategy. Will that give you the optimal\n",
    "solution?\n",
    "Ans: Pick the spot with the highest point value. then pick the next activity with the highest point value such that it does not exceed the total allowed time. This is not a optimal solution"
   ]
  },
  {
   "cell_type": "markdown",
   "metadata": {},
   "source": [
    "Set covering problem : a radio show has to reach all listeners in 30 states. need to decide what stations to play on to reach all states. it costs money to air on stations. so, minimum number of stations to achieve the objective. the ideal way to solve is to get a subset of all stations.  This is called powerset and it has 2^n possibilities. Then select the set which caters to all 30 states' listeners."
   ]
  },
  {
   "cell_type": "markdown",
   "metadata": {},
   "source": [
    "The above algorithm is very expensive and with increase in n, it can quickly take a lot of time to solve. \n",
    "in these circumstances, we resort to approximation algorithms which may not return the ideal solution but can return a good enough solution in very fast time. \\\n",
    "One of the approximation algorithms could be pick the station which covers maximum number of listeners not yet covered [okay if it covers some listeners which have been convered by previous station], repeat until all stations are covered."
   ]
  },
  {
   "cell_type": "markdown",
   "metadata": {},
   "source": [
    "Greedy algorithms are a good choice they are simple to think and implement but also they are fast. this radio problem takes O(n^2). How ? you will have a list of uncovered states and you iterate through n radio stations to select the radio station which covers maximum number of these uncovered states. and how many times would you have to iterate ? till you cover all states and in the worst case that could involve all n radio stations being used and thus O(n*n) = O(n^2)."
   ]
  },
  {
   "cell_type": "code",
   "execution_count": 2,
   "metadata": {},
   "outputs": [],
   "source": [
    "states_needed = set([\"mt\", \"wa\", \"or\", \"id\", \"nv\", \"ut\",\n",
    "\"ca\", \"az\"])"
   ]
  },
  {
   "cell_type": "code",
   "execution_count": 3,
   "metadata": {},
   "outputs": [],
   "source": [
    "#hashmap for storing states covered by stations\n",
    "stations = {}\n",
    "stations[\"kone\"] = set([\"id\", \"nv\", \"ut\"])\n",
    "stations[\"ktwo\"] = set([\"wa\", \"id\", \"mt\"])\n",
    "stations[\"kthree\"] = set([\"or\", \"nv\", \"ca\"])\n",
    "stations[\"kfour\"] = set([\"nv\", \"ut\"])\n",
    "stations[\"kfive\"] = set([\"ca\", \"az\"])\n",
    "\n",
    "\n",
    "                        "
   ]
  },
  {
   "cell_type": "code",
   "execution_count": 4,
   "metadata": {},
   "outputs": [],
   "source": [
    "final_stations = set()\n",
    "best_station=None\n",
    "states_covered = set()\n"
   ]
  },
  {
   "cell_type": "code",
   "execution_count": 5,
   "metadata": {},
   "outputs": [],
   "source": [
    "while states_needed:\n",
    "    best_station = None\n",
    "    states_covered = set()\n",
    "    for station, states_for_station in stations.items():\n",
    "        covered = states_needed & states_for_station\n",
    "        if len(covered) > len(states_covered):\n",
    "            states_covered = covered\n",
    "            best_station = station\n",
    "    states_needed -= states_covered\n",
    "    final_stations.add(best_station)"
   ]
  },
  {
   "cell_type": "code",
   "execution_count": 6,
   "metadata": {},
   "outputs": [
    {
     "name": "stdout",
     "output_type": "stream",
     "text": [
      "{'ktwo', 'kfive', 'kone', 'kthree'}\n"
     ]
    }
   ],
   "source": [
    "print(final_stations)"
   ]
  },
  {
   "cell_type": "markdown",
   "metadata": {},
   "source": [
    "Exercise:\n",
    "Quicksort - not greedy\n",
    "BFS - greedy\n",
    "Dijkstra - greedy"
   ]
  },
  {
   "cell_type": "markdown",
   "metadata": {},
   "source": [
    "NP-complete problems:\n",
    "Travelling Salesman Problem : TSP\n",
    "there are n cities to travel to, which should be the order for minimum time and cost. the only way to find out is to consider all possibilities and then pick the route with the lowest distance. In some circumstances, the start city is fixed, in other circumstances , it could be variable.\n",
    "The number of possibilities is proportional to the factorial of the number of cities in consideration\n",
    "f(n) = n!"
   ]
  },
  {
   "cell_type": "markdown",
   "metadata": {},
   "source": [
    "The TSP and set covering problem have a thing in common, you detrmine all possible paths and compute the shortest path -> these type of problems are NP complete."
   ]
  },
  {
   "cell_type": "markdown",
   "metadata": {},
   "source": [
    "Approximation algorithm for TSP:\n",
    "Greedy way of solving this could be , pick a city A, then pick the city closest to this city. do this till you reach desired city. Not perfect but good enough in most cases."
   ]
  },
  {
   "cell_type": "markdown",
   "metadata": {},
   "source": [
    "Once you encounter a np-complete problem, we can skip trying to solve it perfectly and use an approximation problem to get the job done. \\\n",
    "Some common pointers to np-complete problems:\n",
    "1. All combinations of X -> this phrase usually indicates np-complete\n",
    "2. you can find a solution for small number of items but with large number of items, algo slows down.\n",
    "3. need to compute something for all possible combinations of X and it cannot be broken down into sub-problems.\n",
    "4. If you have set in your problem - could be np-complete\n",
    "5. if you have a sequence and is hard to solve - could be np-complete\n",
    "6. if you can frame your problem into TSP or set-covering problem->it is likely to be np-complete"
   ]
  },
  {
   "cell_type": "markdown",
   "metadata": {},
   "source": [
    "Exercise 8.6 : A postman needs to deliver to 20 homes. He needs to find the\n",
    "shortest route that goes to all 20 homes. Is this an NP-complete\n",
    "problem? \\\n",
    "Ans: Yes, it is a np-complete problem \\\n",
    "Exercise 8.7: Finding the largest clique in a set of people (a clique is a set of people\n",
    "who all know each other). Is this an NP-complete problem?\n",
    "Ans : Yes\n",
    "\n",
    "You’re making a map of the USA, and you need to color adjacent\n",
    "states with different colors. You have to find the minimum number\n",
    "of colors you need so that no two adjacent states are the same color.\n",
    "Is this an NP-complete problem?\n",
    "Ans : yes"
   ]
  },
  {
   "cell_type": "code",
   "execution_count": null,
   "metadata": {},
   "outputs": [],
   "source": []
  }
 ],
 "metadata": {
  "kernelspec": {
   "display_name": "base",
   "language": "python",
   "name": "python3"
  },
  "language_info": {
   "codemirror_mode": {
    "name": "ipython",
    "version": 3
   },
   "file_extension": ".py",
   "mimetype": "text/x-python",
   "name": "python",
   "nbconvert_exporter": "python",
   "pygments_lexer": "ipython3",
   "version": "3.11.5"
  }
 },
 "nbformat": 4,
 "nbformat_minor": 2
}
