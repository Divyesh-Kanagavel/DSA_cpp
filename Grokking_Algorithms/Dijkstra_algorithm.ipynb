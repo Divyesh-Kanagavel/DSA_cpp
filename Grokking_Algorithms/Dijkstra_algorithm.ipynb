{
 "cells": [
  {
   "cell_type": "markdown",
   "metadata": {},
   "source": [
    "Dijkstra's algorithm helps find fastest path from node A to node B given weighted graphs. For example, if we have distances from /to different nodes, Dijkstra can be used to find the route with least total distances and therefore the fastest."
   ]
  },
  {
   "cell_type": "markdown",
   "metadata": {},
   "source": [
    "Algorithm:\n",
    "Find the cheapest node - the node where you can get to in the least amount of time.\n",
    "Update the costs of the neighbors.\n",
    "Repeated step 1 and step 2 for all the nodes in the graph.\n",
    "Calculate the final path"
   ]
  },
  {
   "cell_type": "markdown",
   "metadata": {},
   "source": [
    "Terminology:\n",
    "Each edge in a graph has a number associated with it called weight. A graph with weights is a weighted graph and a graph without weights is a unweighted graph.\n",
    "To calculate shortest path in unweighted graph, BFS is the algorithm to use.\n",
    "For weighted graphs, Dijkstra's is used.\n",
    "Graphs can also have cycles i.e there is a path to go around a graph from a node and return back to same node. Sometimes, traversing through local cycles increases the distance to be travelled.\n",
    "An undirected graph means we have cycles, that is there is path to go to and from a node. \n",
    "Dijkstra's algorithm works only for DAGs -> Directed Acyclic graph."
   ]
  },
  {
   "cell_type": "markdown",
   "metadata": {},
   "source": [
    "Dijkstra can be used to minimize a lot of things, like a series of transcations/trades which can help procure something at the lowest cost. not just for distances between two points"
   ]
  },
  {
   "cell_type": "markdown",
   "metadata": {},
   "source": [
    "Negative weights edges:\n",
    "consider an example :  Rama wants to buy drums after a series of trades. He has a book which he can trade for LP or poster. poster is a simple exchange with no additional cost. for lp, he has to pay an additional 5 dollars. if he has LP, he can get poster and get 7 dollars in return. with poster, an additional amount of 35 dollars will get him the drums. \n",
    "The ideal trade would be to get LP for 5 dollars and then get poster and getting 7 dollars in return and then buying drums which would cost him 33 dollars .But if we apply Dijkstra's,  we would first get to cheaptest node, which is poster since it does not cost anything. the other nearest node to book is LP which costs 5 dollars. the poster has a neighbor , drums -> so update its cost to 35. now, the next cheapest node  is LP, which costs 5. after reaching LP, the poster is one of the neighbors, so the path to poster can be updated as 5-7=2 dollars. but Dijkstra's does not work that way. the node poster has already been processed, so it is not visited anymore. Hence it will select the path, book->poster->drum for 35 dollars. \n"
   ]
  },
  {
   "cell_type": "markdown",
   "metadata": {},
   "source": [
    "Dijkstra works well only for graphs with positive weighted edges. for negative weights in graphs, it breaks. There is another algorithm : Bellman Ford algorithm to determine the shortest paths for negative weighted graphs\n"
   ]
  },
  {
   "cell_type": "markdown",
   "metadata": {},
   "source": [
    "Bellman Ford algorithm:\n",
    "Slightly slower than dijkstra, but is capable of handling negative weighted graphs. the only caveat is negative cycles. the cost of the traversal decreases with going around the cycles n number of times, but the length of the path is increasing. Bellman Ford can thus determine the presence of negative cycles.\n",
    "Based on the principle of relaxation. For a graph with n vertices, from source vertex to any vertex, a simple path can have N-1 edges and hence N-1 relaxation means N1 edges are explored.\n",
    "\n",
    "Starting from vertex 0, we move to its neighbors, updating weights if its current weights is lesser than Weight of parent + dist(parent, child). this is first step of relaxation. then we iterate through neighbors of these children and update neighbors of these nodes. this is second step of relaxation.this way doing for N-1 steps, will calculate the correct weights for all nodes. The final relaxation Nth one, helps find negative cycles, if we relax once more and there is reduction in cost, then there exists a negative cycle.\n"
   ]
  },
  {
   "cell_type": "code",
   "execution_count": 1,
   "metadata": {},
   "outputs": [
    {
     "name": "stdout",
     "output_type": "stream",
     "text": [
      "dict_keys(['a', 'b'])\n"
     ]
    }
   ],
   "source": [
    "#implementation\n",
    "# need three hash tables - one for graph, one for tracking the costs, and one for tracking the parent nodes\n",
    "graph = {}\n",
    "# to store neighbors and cost, use a nested hash table\n",
    "graph[\"start\"] = {} # start is the root node\n",
    "graph[\"start\"][\"a\"] = 6\n",
    "graph[\"start\"][\"b\"] = 2\n",
    "print(graph[\"start\"].keys())"
   ]
  },
  {
   "cell_type": "code",
   "execution_count": 2,
   "metadata": {},
   "outputs": [
    {
     "name": "stdout",
     "output_type": "stream",
     "text": [
      "6\n",
      "2\n"
     ]
    }
   ],
   "source": [
    "# to find weights of edges\n",
    "print(graph[\"start\"][\"a\"])\n",
    "print(graph[\"start\"][\"b\"])\n"
   ]
  },
  {
   "cell_type": "code",
   "execution_count": 3,
   "metadata": {},
   "outputs": [],
   "source": [
    "# fill up all the remaining nodes\n",
    "graph[\"a\"] = {}\n",
    "graph[\"a\"][\"fin\"] = 1\n",
    "graph[\"b\"]  = {}\n",
    "graph[\"b\"][\"a\"] = 3\n",
    "graph[\"b\"][\"fin\"] = 5\n",
    "graph[\"fin\"] = {} # no more neighbors from fin"
   ]
  },
  {
   "cell_type": "code",
   "execution_count": 4,
   "metadata": {},
   "outputs": [],
   "source": [
    "# cost hashmap -> that is distance from start node to given node\n",
    "infinity = float(\"inf\")\n",
    "costs = {}\n",
    "costs[\"a\"] = 6 # we already have the info\n",
    "costs[\"b\"] = 2 # already present\n",
    "costs[\"fin\"] = infinity\n"
   ]
  },
  {
   "cell_type": "code",
   "execution_count": 5,
   "metadata": {},
   "outputs": [],
   "source": [
    "# hash table for parents\n",
    "parents = {}\n",
    "parents[\"a\"] = \"start\"\n",
    "parents[\"b\"] = \"start\"\n",
    "parents[\"fin\"] = None\n",
    "# this hash enables us to find the path in the end"
   ]
  },
  {
   "cell_type": "code",
   "execution_count": 6,
   "metadata": {},
   "outputs": [],
   "source": [
    "processed = [] # list to keep track of processed nodes so that we don't process it again\n"
   ]
  },
  {
   "cell_type": "code",
   "execution_count": 81,
   "metadata": {},
   "outputs": [],
   "source": [
    "def find_lowest_cost_node(costs,processed):\n",
    "    lowest_cost = infinity\n",
    "    lowest_cost_node = None\n",
    "    for node in costs:\n",
    "        cost = costs[node]\n",
    "        if (cost < lowest_cost) and node not in processed:\n",
    "            lowest_cost = cost\n",
    "            lowest_cost_node = node\n",
    "    return lowest_cost_node\n",
    "    "
   ]
  },
  {
   "cell_type": "code",
   "execution_count": 80,
   "metadata": {},
   "outputs": [],
   "source": [
    "def dijkstra(graph, costs, parents, processed):\n",
    "    node = find_lowest_cost_node(costs,processed)\n",
    "    print(node)\n",
    "    while node is not None:\n",
    "        cost = costs[node]\n",
    "        neighbors = graph[node]\n",
    "        for n in neighbors.keys():\n",
    "            new_cost = cost + neighbors[n]\n",
    "            if costs[n] > new_cost:\n",
    "                costs[n] = new_cost\n",
    "                parents[n] = node\n",
    "        processed.append(node)\n",
    "        node = find_lowest_cost_node(costs,processed)\n",
    "    return costs, parents"
   ]
  },
  {
   "cell_type": "code",
   "execution_count": 24,
   "metadata": {},
   "outputs": [
    {
     "name": "stdout",
     "output_type": "stream",
     "text": [
      "{'a': 'b', 'b': 'start', 'fin': 'a'}\n",
      "{'a': 5, 'b': 2, 'fin': 6}\n"
     ]
    }
   ],
   "source": [
    "print(parents)\n",
    "print(costs)"
   ]
  },
  {
   "cell_type": "code",
   "execution_count": 32,
   "metadata": {},
   "outputs": [],
   "source": [
    "# to determine the path from one node to another node\n",
    "def get_path(start_node, end_node):\n",
    "    node = end_node\n",
    "    path = [end_node]\n",
    "    while node!=start_node:\n",
    "        node = parents[node]\n",
    "        path.append(node)\n",
    "    path.reverse()\n",
    "    \n",
    "\n",
    "    return path,costs[end_node]"
   ]
  },
  {
   "cell_type": "code",
   "execution_count": 33,
   "metadata": {},
   "outputs": [
    {
     "name": "stdout",
     "output_type": "stream",
     "text": [
      "['start', 'b', 'a', 'fin']\n",
      "6\n"
     ]
    }
   ],
   "source": [
    "start_node = \"start\"\n",
    "end_node = \"fin\"\n",
    "path,cost= get_path(start_node, end_node)\n",
    "print(path)\n",
    "print(cost)\n",
    "\n"
   ]
  },
  {
   "cell_type": "markdown",
   "metadata": {},
   "source": [
    "Exercises:\n",
    "7.1 : weight of shortest path - 5+2+1 = 8.\n",
    "7.2 : weight of shortest path - straight path avoiding cycles = 10+20+30 = 60\n",
    "7.3 : No shortest path with Dijkstra's algo since it has negative weights\n",
    "\n",
    "Let us verify each of these with the algo we have written"
   ]
  },
  {
   "cell_type": "code",
   "execution_count": 54,
   "metadata": {},
   "outputs": [],
   "source": [
    "#Exercise 7.1\n",
    "graph = {}\n",
    "graph[\"start\"] = {}\n",
    "graph[\"start\"][\"a\"] = 5\n",
    "graph[\"start\"][\"b\"] = 2\n",
    "graph[\"a\"] = {}\n",
    "graph[\"b\"] = {}\n",
    "graph[\"a\"][\"c\"] = 4\n",
    "graph[\"a\"][\"d\"] = 2\n",
    "graph[\"b\"][\"a\"] = 8\n",
    "graph[\"b\"][\"d\"] = 7\n",
    "graph[\"c\"] = {}\n",
    "graph[\"d\"] = {}\n",
    "graph[\"c\"][\"fin\"] = 3\n",
    "graph[\"c\"][\"d\"] = 6\n",
    "graph[\"d\"][\"fin\"] = 1\n",
    "graph[\"fin\"] = {}\n"
   ]
  },
  {
   "cell_type": "code",
   "execution_count": 55,
   "metadata": {},
   "outputs": [],
   "source": [
    "costs[\"a\"] = 5\n",
    "costs[\"b\"] = 2\n",
    "costs[\"fin\"] = infinity\n",
    "costs[\"c\"] = infinity\n",
    "costs[\"d\"] = infinity"
   ]
  },
  {
   "cell_type": "code",
   "execution_count": 56,
   "metadata": {},
   "outputs": [],
   "source": [
    "parents[\"a\"] = \"start\"\n",
    "parents[\"b\"] = \"start\"\n",
    "parents[\"c\"] = None\n",
    "parents[\"d\"] = None\n",
    "parents[\"fin\"] = None"
   ]
  },
  {
   "cell_type": "code",
   "execution_count": 57,
   "metadata": {},
   "outputs": [],
   "source": [
    "processed = []"
   ]
  },
  {
   "cell_type": "code",
   "execution_count": 58,
   "metadata": {},
   "outputs": [],
   "source": [
    "costs, parents = dijkstra(graph, costs, parents, processed)"
   ]
  },
  {
   "cell_type": "code",
   "execution_count": 59,
   "metadata": {},
   "outputs": [
    {
     "data": {
      "text/plain": [
       "({'a': 5, 'b': 2, 'fin': 8, 'c': 9, 'd': 7},\n",
       " {'a': 'start', 'b': 'start', 'fin': 'd', 'c': 'a', 'd': 'a'})"
      ]
     },
     "execution_count": 59,
     "metadata": {},
     "output_type": "execute_result"
    }
   ],
   "source": [
    "costs, parents"
   ]
  },
  {
   "cell_type": "code",
   "execution_count": 88,
   "metadata": {},
   "outputs": [],
   "source": [
    "# exercise 7.2\n",
    "\n",
    "graph = {}\n",
    "graph[\"start\"] = {}\n",
    "graph[\"start\"][\"a\"] = 10\n",
    "graph[\"a\"] = {}\n",
    "graph[\"a\"][\"b\"] = 20\n",
    "graph[\"b\"] = {}\n",
    "graph[\"b\"][\"c\"] = 1\n",
    "graph[\"b\"][\"fin\"] = 30\n",
    "graph[\"c\"] = {}\n",
    "graph[\"c\"][\"a\"]  = 1\n",
    "graph[\"fin\"] = {}\n",
    "\n",
    "costs = {}\n",
    "costs[\"a\"] = 10\n",
    "costs[\"b\"] = infinity\n",
    "costs[\"c\"] = infinity\n",
    "costs[\"fin\"] = infinity\n",
    "\n",
    "parents = {}\n",
    "parents[\"a\"] = \"start\"\n",
    "parents[\"b\"] = None\n",
    "parents[\"c\"] = None\n",
    "parents[\"fin\"] = None\n",
    "processed = []"
   ]
  },
  {
   "cell_type": "code",
   "execution_count": 89,
   "metadata": {},
   "outputs": [
    {
     "name": "stdout",
     "output_type": "stream",
     "text": [
      "{'start': {'a': 10}, 'a': {'b': 20}, 'b': {'c': 1, 'fin': 30}, 'c': {'a': 1}, 'fin': {}}\n",
      "[]\n",
      "{'a': 10, 'b': inf, 'c': inf, 'fin': inf}\n"
     ]
    }
   ],
   "source": [
    "print(graph)\n",
    "print(processed)\n",
    "print(costs)"
   ]
  },
  {
   "cell_type": "code",
   "execution_count": 90,
   "metadata": {},
   "outputs": [
    {
     "name": "stdout",
     "output_type": "stream",
     "text": [
      "a\n"
     ]
    }
   ],
   "source": [
    "\n",
    "costs, parents = dijkstra(graph, costs, parents, processed)"
   ]
  },
  {
   "cell_type": "code",
   "execution_count": 91,
   "metadata": {},
   "outputs": [
    {
     "data": {
      "text/plain": [
       "({'a': 10, 'b': 30, 'c': 31, 'fin': 60},\n",
       " {'a': 'start', 'b': 'a', 'c': 'b', 'fin': 'b'})"
      ]
     },
     "execution_count": 91,
     "metadata": {},
     "output_type": "execute_result"
    }
   ],
   "source": [
    "costs, parents"
   ]
  }
 ],
 "metadata": {
  "kernelspec": {
   "display_name": "base",
   "language": "python",
   "name": "python3"
  },
  "language_info": {
   "codemirror_mode": {
    "name": "ipython",
    "version": 3
   },
   "file_extension": ".py",
   "mimetype": "text/x-python",
   "name": "python",
   "nbconvert_exporter": "python",
   "pygments_lexer": "ipython3",
   "version": "3.11.5"
  }
 },
 "nbformat": 4,
 "nbformat_minor": 2
}
